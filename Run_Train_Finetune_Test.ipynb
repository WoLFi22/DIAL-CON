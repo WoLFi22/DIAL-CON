{
 "cells": [
  {
   "cell_type": "code",
   "execution_count": 8,
   "id": "ae6615fc",
   "metadata": {},
   "outputs": [],
   "source": [
    "import papermill as pm"
   ]
  },
  {
   "cell_type": "code",
   "execution_count": 9,
   "id": "c26390f7",
   "metadata": {},
   "outputs": [],
   "source": [
    "name_aug = ''\n",
    "train_dialect = 'Bairisch',\n",
    "all_generations = ['JUNG', 'ALT']\n",
    "train_generation = ['OTHER']\n",
    "speaker = 'AM3'\n",
    "calibration = None"
   ]
  },
  {
   "cell_type": "code",
   "execution_count": 10,
   "id": "5df3497e",
   "metadata": {},
   "outputs": [
    {
     "data": {
      "application/vnd.jupyter.widget-view+json": {
       "model_id": "a0c76dfbe5c247238237e71ff4b21055",
       "version_major": 2,
       "version_minor": 0
      },
      "text/plain": [
       "Executing:   0%|          | 0/29 [00:00<?, ?cell/s]"
      ]
     },
     "metadata": {},
     "output_type": "display_data"
    },
    {
     "data": {
      "application/vnd.jupyter.widget-view+json": {
       "model_id": "1dd832ea0ac84b82aeaa4ae3e3e7048a",
       "version_major": 2,
       "version_minor": 0
      },
      "text/plain": [
       "Executing:   0%|          | 0/29 [00:00<?, ?cell/s]"
      ]
     },
     "metadata": {},
     "output_type": "display_data"
    },
    {
     "data": {
      "application/vnd.jupyter.widget-view+json": {
       "model_id": "4ad8e5c4b2184c4690e56fe745908a6c",
       "version_major": 2,
       "version_minor": 0
      },
      "text/plain": [
       "Executing:   0%|          | 0/29 [00:00<?, ?cell/s]"
      ]
     },
     "metadata": {},
     "output_type": "display_data"
    },
    {
     "data": {
      "text/plain": []
     },
     "execution_count": 10,
     "metadata": {},
     "output_type": "execute_result"
    }
   ],
   "source": [
    "pm.execute_notebook(\n",
    "    '_00_Pipeline.ipynb',\n",
    "    '_00_Pipeline_output.ipynb',\n",
    "    parameters=dict(name_aug_extern = name_aug,\n",
    "        train_only_extern = True,\n",
    "        finetune_only_extern = False,\n",
    "        test_only_extern = False,\n",
    "        train_dialect_extern = train_dialect,\n",
    "        all_generations_extern = all_generations,\n",
    "        train_generation_extern = train_generation,\n",
    "        finetune_speaker_extern = speaker,\n",
    "        test_speaker_extern = speaker,\n",
    "        calibration_extern = calibration,\n",
    "    ))\n",
    "\n",
    "pm.execute_notebook(\n",
    "    '_00_Pipeline.ipynb',\n",
    "    '_00_Pipeline_output.ipynb',\n",
    "    parameters=dict(name_aug_extern = '',\n",
    "        train_only_extern = False,\n",
    "        finetune_only_extern = True,\n",
    "        test_only_extern = False,\n",
    "        train_dialect_extern = train_dialect,\n",
    "        all_generations_extern = all_generations,\n",
    "        train_generation_extern = train_generation,\n",
    "        finetune_speaker_extern = speaker,\n",
    "        test_speaker_extern = speaker,\n",
    "        calibration_extern = calibration,\n",
    "    ))\n",
    "\n",
    "pm.execute_notebook(\n",
    "    '_00_Pipeline.ipynb',\n",
    "    '_00_Pipeline_output.ipynb',\n",
    "    parameters=dict(name_aug_extern = '',\n",
    "        train_only_extern = False,\n",
    "        finetune_only_extern = False,\n",
    "        test_only_extern = True,\n",
    "        train_dialect_extern = train_dialect,\n",
    "        all_generations_extern = all_generations,\n",
    "        train_generation_extern = train_generation,\n",
    "        finetune_speaker_extern = speaker,\n",
    "        test_speaker_extern = speaker,\n",
    "        calibration_extern = calibration,\n",
    "    ))\n"
   ]
  },
  {
   "cell_type": "code",
   "execution_count": null,
   "id": "cc66fd25",
   "metadata": {},
   "outputs": [],
   "source": []
  }
 ],
 "metadata": {
  "kernelspec": {
   "display_name": "Python 3 (ipykernel)",
   "language": "python",
   "name": "python3"
  },
  "language_info": {
   "codemirror_mode": {
    "name": "ipython",
    "version": 3
   },
   "file_extension": ".py",
   "mimetype": "text/x-python",
   "name": "python",
   "nbconvert_exporter": "python",
   "pygments_lexer": "ipython3",
   "version": "3.9.12"
  }
 },
 "nbformat": 4,
 "nbformat_minor": 5
}
