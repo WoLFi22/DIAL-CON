{
 "cells": [
  {
   "cell_type": "code",
   "execution_count": 1,
   "id": "1497c118",
   "metadata": {
    "collapsed": true
   },
   "outputs": [],
   "source": [
    "from sklearn.metrics import f1_score, confusion_matrix\n",
    "from sklearn.calibration import calibration_curve\n",
    "import matplotlib.colors as mcolors\n",
    "from collections import Counter\n",
    "import matplotlib.pyplot as plt\n",
    "import seaborn as sn\n",
    "import pandas as pd\n",
    "import numpy as np\n",
    "import matplotlib\n",
    "import pickle\n",
    "import sys\n",
    "\n",
    "matplotlib.use(\"Agg\")\n"
   ]
  },
  {
   "cell_type": "markdown",
   "id": "cba2517d",
   "metadata": {},
   "source": [
    "## get Boxplot and raincloudplot of results"
   ]
  },
  {
   "cell_type": "code",
   "execution_count": 2,
   "id": "ed80de0f",
   "metadata": {},
   "outputs": [],
   "source": [
    "def boxplot(column, name, name_aug):\n",
    "    df = pd.read_pickle('./Results_' + name + '_' + name_aug + '.pkl')\n",
    "    dat = df[column].tolist()\n",
    "    print(column)\n",
    "    print('std:', np.std(dat))\n",
    "    print('median:', np.median(dat))\n",
    "    print('mean:', np.mean(dat))\n",
    "    data = [dat]\n",
    "    fig = plt.figure(figsize =(10, 7))\n",
    "    ax = fig.add_axes([0, 0, 1, 1])\n",
    "    plt.title(\"Boxplot of \" + column)\n",
    "    bp = ax.boxplot(data, showmeans=True)\n",
    "    ax.set_ylim(0.5,1.0)\n",
    "    plt.savefig('boxplot_' + column + '_' + name + '_' + name_aug + '.png', bbox_inches='tight')\n",
    "    plt.close()\n",
    "    \n",
    "    raincloudplot(column, name, name_aug)\n",
    "    "
   ]
  },
  {
   "cell_type": "code",
   "execution_count": 3,
   "id": "980017de",
   "metadata": {},
   "outputs": [],
   "source": [
    "def raincloudplot(column, name, name_aug):\n",
    "    \n",
    "    fig, ax = plt.subplots(figsize=(8, 2))\n",
    "\n",
    "    boxplot_colors = ['yellowgreen']\n",
    "    violin_colors = ['purple']\n",
    "    scatter_colors = ['tomato']\n",
    "\n",
    "    df = pd.read_pickle('./Results_' + name + '_' + name_aug + '.pkl')\n",
    "    data = [df[column].tolist()]\n",
    "\n",
    "    bp = ax.boxplot(data, patch_artist=True, vert=False)\n",
    "\n",
    "    for patch, color in zip(bp['boxes'], boxplot_colors):\n",
    "        patch.set_facecolor(color)\n",
    "        patch.set_alpha(0.4)\n",
    "\n",
    "    vp = ax.violinplot(data, points=500, \n",
    "                       showmeans=False, showextrema=False, showmedians=False, vert=False)\n",
    "\n",
    "    for idx, b in enumerate(vp['bodies']):\n",
    "        m = np.mean(b.get_paths()[0].vertices[:, 0])\n",
    "        b.get_paths()[0].vertices[:, 1] = np.clip(b.get_paths()[0].vertices[:, 1], idx + 1, idx + 2)\n",
    "        b.set_color(violin_colors[idx])\n",
    "\n",
    "    for idx, features in enumerate(data):\n",
    "        y = np.full(len(features), idx + .8)\n",
    "        idxs = np.arange(len(y))\n",
    "        out = y.astype(float)\n",
    "        out.flat[idxs] += np.random.uniform(low=-.1, high=.1, size=len(idxs))\n",
    "        y = out\n",
    "        plt.scatter(features, y, s=.3, c=scatter_colors[idx])\n",
    "\n",
    "    plt.yticks(np.arange(1, 2, 1), [name])\n",
    "    plt.xlabel('Scores')\n",
    "    ax.set_xlim(0.5,1.0)\n",
    "    plt.title(\"RainCloudPlot of \" + column)\n",
    "    plt.savefig('raincloudplot_' + column + '_' + name + '_' + name_aug + '.png', bbox_inches='tight')\n",
    "    plt.close()\n"
   ]
  },
  {
   "cell_type": "markdown",
   "id": "71a27c8a",
   "metadata": {},
   "source": [
    "## confusion matrix"
   ]
  },
  {
   "cell_type": "code",
   "execution_count": 4,
   "id": "5fe9fe7e",
   "metadata": {},
   "outputs": [],
   "source": [
    "def confusionMatrix(name, name_aug, mapping):\n",
    "    df_results = pd.read_pickle('./Results_' + name + '_' + name_aug + '.pkl')\n",
    "    \n",
    "    y_true = np.concatenate(df_results['classes_true'].tolist()).ravel()\n",
    "    y_pred = np.concatenate(df_results['classes_x'].tolist()).ravel()\n",
    "\n",
    "    mapping = {key: np.argmax(value) for key, value in mapping.items()}\n",
    "    reversed_mapping = {value: key for key, value in mapping.items()}\n",
    "    true_mapped_list = [reversed_mapping[key] for key in y_true]\n",
    "    pred_mapped_list = [reversed_mapping[key] for key in y_pred]\n",
    "    cm_labels = np.unique(true_mapped_list)\n",
    "                  \n",
    "    matrix = confusion_matrix(true_mapped_list, pred_mapped_list)\n",
    "        \n",
    "    df_cfm = pd.DataFrame(matrix, index=cm_labels, columns=cm_labels)\n",
    "    \n",
    "    plt.figure(figsize = (10,7))\n",
    "    cfm_plot = sn.heatmap(df_cfm, annot=True, fmt='g')\n",
    "    \n",
    "    plt.xlabel('Predicted label', fontsize=12)\n",
    "    plt.ylabel('True label', fontsize=12)\n",
    "    cfm_plot.set_xticklabels(cfm_plot.get_xticklabels(), rotation=45, ha='right', rotation_mode='anchor')\n",
    "    cfm_plot.set_yticklabels(cfm_plot.get_yticklabels(), rotation=45, ha='right', rotation_mode='anchor')\n",
    "    plt.tight_layout()\n",
    "    \n",
    "    cfm_plot.figure.savefig(\"confusion_matrix.png\")\n",
    "    \n",
    "    plt.close()\n",
    "        "
   ]
  },
  {
   "cell_type": "markdown",
   "id": "9a5994f9",
   "metadata": {},
   "source": [
    "## reliability diagramm"
   ]
  },
  {
   "cell_type": "code",
   "execution_count": 1,
   "id": "a32ca3de",
   "metadata": {},
   "outputs": [],
   "source": [
    "def reliability_diagramm(name, name_aug):\n",
    "    df_results = pd.read_pickle('./Results_' + name + '_' + name_aug + '.pkl')\n",
    "    last_run = df_results.iloc[-1]\n",
    "    \n",
    "    pred_test = last_run['pred']\n",
    "    true_labels = last_run['classes_true']\n",
    "    pred_test = np.array(pred_test)\n",
    "    true_labels = np.array(true_labels)\n",
    "\n",
    "    y_proba = pred_test[:, 1]\n",
    "    n_bins = 20\n",
    "    prob_true, prob_pred = calibration_curve(true_labels, y_proba, n_bins=n_bins, strategy='uniform')\n",
    "\n",
    "    bins = np.linspace(0, 1, n_bins+1)\n",
    "    counts, _ = np.histogram(y_proba, bins=bins)\n",
    "    bin_centers = (bins[:-1] + bins[1:]) / 2\n",
    "\n",
    "    plt.figure(figsize=(8, 6))\n",
    "    plt.plot(prob_pred, prob_true, marker='o', label='Model')\n",
    "    plt.plot([0, 1], [0, 1], linestyle='--', label='Perfect Calibration')\n",
    "    plt.title('Reliability Diagram')\n",
    "\n",
    "    for center, count in zip(bin_centers, counts):\n",
    "        plt.text(center, 0.05, str(count), ha='center', va='bottom', fontsize=8)\n",
    "\n",
    "    plt.legend()\n",
    "    plt.savefig(\"reliability_diagramm.png\")\n"
   ]
  },
  {
   "cell_type": "markdown",
   "id": "8a483134",
   "metadata": {},
   "source": [
    "## time diagram for test"
   ]
  },
  {
   "cell_type": "code",
   "execution_count": 2,
   "id": "e8cdafd0",
   "metadata": {},
   "outputs": [],
   "source": [
    "def time_diagramm():\n",
    "    df_results = pd.read_pickle('./predictions.pkl')\n",
    "\n",
    "    sr = 16000\n",
    "    df_results['time_sec_mid'] = (df_results['samples_begin'] + df_results['samples_end']) / 2 / sr\n",
    "    df_results['pred_0'] = df_results['predictions'].apply(lambda x: x[0])\n",
    "    df_results['pred_1'] = df_results['predictions'].apply(lambda x: x[1])\n",
    "\n",
    "    plt.figure(figsize=(8, 4))\n",
    "    plt.plot(df_results['time_sec_mid'], df_results['pred_0'], marker='o', label='Prediction Std.')\n",
    "    plt.plot(df_results['time_sec_mid'], df_results['pred_1'], marker='o', label='Prediction Dialect')\n",
    "    plt.ylim([0, 1])\n",
    "    plt.xlabel('Time (seconds)')\n",
    "    plt.ylabel('Prediction value')\n",
    "    plt.title('Predictions Over Time')\n",
    "    plt.legend()\n",
    "    plt.grid(True)\n",
    "    plt.savefig(\"time_diagramm.png\")\n"
   ]
  },
  {
   "cell_type": "code",
   "execution_count": null,
   "id": "dc791200",
   "metadata": {},
   "outputs": [],
   "source": []
  }
 ],
 "metadata": {
  "kernelspec": {
   "display_name": "Python 3.9 (tf-gpu)",
   "language": "python",
   "name": "tf-gpu"
  },
  "language_info": {
   "codemirror_mode": {
    "name": "ipython",
    "version": 3
   },
   "file_extension": ".py",
   "mimetype": "text/x-python",
   "name": "python",
   "nbconvert_exporter": "python",
   "pygments_lexer": "ipython3",
   "version": "3.9.12"
  }
 },
 "nbformat": 4,
 "nbformat_minor": 5
}
