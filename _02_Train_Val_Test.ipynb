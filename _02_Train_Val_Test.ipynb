{
 "cells": [
  {
   "cell_type": "code",
   "execution_count": 1,
   "id": "04afbcf2",
   "metadata": {},
   "outputs": [],
   "source": [
    "from pydub import AudioSegment\n",
    "from pathlib import Path\n",
    "import tensorflow as tf\n",
    "from glob import glob\n",
    "import pandas as pd\n",
    "import numpy as np\n",
    "import math\n",
    "import os\n"
   ]
  },
  {
   "cell_type": "markdown",
   "id": "bc089aac",
   "metadata": {},
   "source": [
    "## Create df with all classes, speaker and files\n",
    "### Parameters:\n",
    "\n",
    "- **path**:  \n",
    "  The path of the original audio files. Each folder within this path represents a dialect, and subfolders within each dialect folder should contain audio files from different speakers.  \n",
    "  \n",
    "- **path_aug**:  \n",
    "  The path of the augmented audio files. Each folder within this path represents a dialect, and subfolders within each dialect folder should contain audio files from different speakers.  \n",
    "\n",
    "- **name_aug**:  \n",
    "  Used for storing the resulting DataFrame as './All_Files_' + name_aug + '.pkl'.\n",
    "  \n",
    "- **s_ending**:  \n",
    "  Ending of Audio File from Standard.\n",
    "  \n",
    "- **d_ending**:  \n",
    "  Ending of Audio File from Dialect.\n",
    "\n",
    "- **t_ending**:  \n",
    "  Ending of Audio File from Test.\n",
    "\n",
    "### Returns:\n",
    "\n",
    "Saves a DataFrame with the following columns:\n",
    "\n",
    "- _'dialect'_: Represents the class (dialect) of the audio.\n",
    "- _'speaker'_: Represents the speaker or place associated with the audio.\n",
    "- _'file\\_name'_: Represents the name of the audio file.\n",
    "- _'length'_: Represents the number of samples in the audio file.\n",
    "- _'file\\_path'_: Represents the path of the audio file.\n",
    "- _'augmented'_: True if its an augmented file.\n",
    "- _'type'_: Represents the type (standard, dialect or test) of a file.\n",
    "\n",
    "\n",
    "The DataFrame is saved to './All_Files_' + name_aug + '.pkl'.\n"
   ]
  },
  {
   "cell_type": "code",
   "execution_count": 2,
   "id": "85f021b6",
   "metadata": {},
   "outputs": [],
   "source": [
    "def create_speaker_DF(path, path_aug, name_aug, s_ending, d_ending, t_ending):\n",
    "    df = pd.DataFrame(columns=['dialect', 'speaker', 'file_name', 'length', 'file_path', 'augmented', 'type'])\n",
    "\n",
    "    df = sub(df, path, 'False', '', s_ending, d_ending, t_ending)\n",
    "    if (name_aug != ''):\n",
    "        df = sub(df, path_aug, 'True', name_aug, s_ending, d_ending, t_ending)\n",
    "    \n",
    "    df.to_pickle('./All_Files_.pkl')\n",
    "    \n",
    "    return df\n"
   ]
  },
  {
   "cell_type": "code",
   "execution_count": 3,
   "id": "abd5154f",
   "metadata": {},
   "outputs": [],
   "source": [
    "def sub(df, path, aug, name_aug, s_ending, d_ending, t_ending):\n",
    "    all_speaker = []\n",
    "    all_speaker_name = []\n",
    "    \n",
    "    all_dialects = glob(path + '\\\\*', recursive = True)\n",
    "    for dialect in all_dialects:\n",
    "        all_speaker = np.concatenate((all_speaker, glob(dialect + '\\\\*', recursive = True)), axis=None)\n",
    "        all_speaker_name.append([f.name for f in os.scandir(dialect) if f.is_dir()])\n",
    "\n",
    "    audios = []\n",
    "    for path in all_speaker:\n",
    "        audios.extend(tf.io.gfile.glob(path + '\\\\*.wav'))\n",
    "    \n",
    "    for audio in audios:\n",
    "        split = audio.split('\\\\')\n",
    "    \n",
    "        audio_segment = AudioSegment.from_file(audio, \"wav\") \n",
    "        duration = len(audio_segment)\n",
    "    \n",
    "        speaker = split[-2]\n",
    "        \n",
    "        base_name = Path(audio).stem\n",
    "        if base_name.endswith(s_ending):\n",
    "            audio_type = 'standard'\n",
    "        elif base_name.endswith(d_ending):\n",
    "            audio_type = 'dialect'\n",
    "        elif base_name.endswith(t_ending):\n",
    "            audio_type = 'test'\n",
    "        else:\n",
    "            audio_type = None\n",
    "        \n",
    "        list_row = [split[-3], speaker, Path(audio).name, duration, audio, aug, audio_type]\n",
    "        df.loc[len(df)] = list_row\n",
    "    return df"
   ]
  },
  {
   "cell_type": "code",
   "execution_count": null,
   "id": "d819aea0",
   "metadata": {},
   "outputs": [],
   "source": []
  }
 ],
 "metadata": {
  "kernelspec": {
   "display_name": "Python 3.9 (tf-gpu)",
   "language": "python",
   "name": "tf-gpu"
  },
  "language_info": {
   "codemirror_mode": {
    "name": "ipython",
    "version": 3
   },
   "file_extension": ".py",
   "mimetype": "text/x-python",
   "name": "python",
   "nbconvert_exporter": "python",
   "pygments_lexer": "ipython3",
   "version": "3.9.12"
  }
 },
 "nbformat": 4,
 "nbformat_minor": 5
}
